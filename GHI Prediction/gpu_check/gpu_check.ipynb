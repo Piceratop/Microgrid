{
 "cells": [
  {
   "cell_type": "code",
   "execution_count": 1,
   "id": "3eaf0209",
   "metadata": {},
   "outputs": [],
   "source": [
    "# %pip install tensorflow'\n",
    "# %pip install tensorflow[and-cuda]"
   ]
  },
  {
   "cell_type": "code",
   "execution_count": 2,
   "id": "bce5c3da",
   "metadata": {},
   "outputs": [
    {
     "name": "stderr",
     "output_type": "stream",
     "text": [
      "2025-09-15 09:58:39.772095: I tensorflow/core/platform/cpu_feature_guard.cc:210] This TensorFlow binary is optimized to use available CPU instructions in performance-critical operations.\n",
      "To enable the following instructions: AVX2 FMA, in other operations, rebuild TensorFlow with the appropriate compiler flags.\n"
     ]
    }
   ],
   "source": [
    "import tensorflow as tf"
   ]
  },
  {
   "cell_type": "code",
   "execution_count": 3,
   "id": "6a4960c9",
   "metadata": {},
   "outputs": [
    {
     "name": "stdout",
     "output_type": "stream",
     "text": [
      "Available devices:  [PhysicalDevice(name='/physical_device:CPU:0', device_type='CPU'), PhysicalDevice(name='/physical_device:GPU:0', device_type='GPU')]\n",
      "GPU available:  [PhysicalDevice(name='/physical_device:GPU:0', device_type='GPU')]\n",
      "Num GPUs Available:  1\n",
      "TensorFlow is using GPU:  True\n",
      "TensorFlow is built with CUDA:  True\n",
      "GPU name:  /device:GPU:0\n"
     ]
    },
    {
     "name": "stderr",
     "output_type": "stream",
     "text": [
      "WARNING: All log messages before absl::InitializeLog() is called are written to STDERR\n",
      "I0000 00:00:1757905123.018003    8752 gpu_device.cc:2020] Created device /device:GPU:0 with 7537 MB memory:  -> device: 0, name: NVIDIA GeForce RTX 3080, pci bus id: 0000:01:00.0, compute capability: 8.6\n"
     ]
    }
   ],
   "source": [
    "def gpu_check():\n",
    "   # List all available physical devices\n",
    "   print(\"Available devices: \", tf.config.list_physical_devices())\n",
    "\n",
    "   # Check if GPU is available\n",
    "   print(\"GPU available: \", tf.config.list_physical_devices('GPU'))\n",
    "\n",
    "   # Another way to check\n",
    "   print(\"Num GPUs Available: \", len(tf.config.experimental.list_physical_devices('GPU')))\n",
    "\n",
    "   # Check which device is being used\n",
    "   print(\"TensorFlow is using GPU: \", tf.test.is_built_with_cuda())\n",
    "   print(\"TensorFlow is built with CUDA: \", tf.test.is_built_with_cuda())\n",
    "\n",
    "   # To see if a GPU is being actively used\n",
    "   print(\"GPU name: \", tf.test.gpu_device_name())\n",
    "   \n",
    "gpu_check()"
   ]
  }
 ],
 "metadata": {
  "kernelspec": {
   "display_name": "tf",
   "language": "python",
   "name": "python3"
  },
  "language_info": {
   "codemirror_mode": {
    "name": "ipython",
    "version": 3
   },
   "file_extension": ".py",
   "mimetype": "text/x-python",
   "name": "python",
   "nbconvert_exporter": "python",
   "pygments_lexer": "ipython3",
   "version": "3.12.3"
  }
 },
 "nbformat": 4,
 "nbformat_minor": 5
}
